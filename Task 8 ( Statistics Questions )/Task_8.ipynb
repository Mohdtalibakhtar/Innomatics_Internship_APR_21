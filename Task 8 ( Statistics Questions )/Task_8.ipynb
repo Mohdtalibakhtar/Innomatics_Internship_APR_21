{
 "cells": [
  {
   "cell_type": "code",
   "execution_count": 1,
   "metadata": {},
   "outputs": [
    {
     "name": "stdout",
     "output_type": "stream",
     "text": [
      "1.09 1\n",
      "0.696\n"
     ]
    }
   ],
   "source": [
    "# Question 1\n",
    "# Binomial Distribution 1\n",
    "\n",
    "def fact(n):\n",
    "    return 1 if n == 0 else n*fact(n-1)\n",
    "\n",
    "def comb(n, x):\n",
    "    return fact(n) / (fact(x) * fact(n-x))\n",
    "\n",
    "def b(x, n, p):\n",
    "    return comb(n, x) * p**x * (1-p)**(n-x)\n",
    "\n",
    "l, r = list(map(float, input().split(\" \")))\n",
    "odds = l / r\n",
    "print(round(sum([b(i, 6, odds / (1 + odds)) for i in range(3, 7)]), 3))\n"
   ]
  },
  {
   "cell_type": "code",
   "execution_count": 2,
   "metadata": {},
   "outputs": [
    {
     "name": "stdout",
     "output_type": "stream",
     "text": [
      "12 10\n",
      "0.891\n",
      "0.342\n"
     ]
    }
   ],
   "source": [
    "# Question 2\n",
    "# Binomial Distribution 2\n",
    "\n",
    "def fact(n):\n",
    "    return 1 if n == 0 else n*fact(n-1)\n",
    "\n",
    "def comb(n, x):\n",
    "    return fact(n) / (fact(x) * fact(n-x))\n",
    "\n",
    "def b(x, n, p):\n",
    "    return comb(n, x) * p**x * (1-p)**(n-x)\n",
    "\n",
    "p, n = list(map(int, input().split(\" \")))\n",
    "print(round(sum([b(i, n, p/100) for i in range(3)]), 3))\n",
    "print(round(sum([b(i, n, p/100) for i in range(2, n+1)]), 3))"
   ]
  },
  {
   "cell_type": "code",
   "execution_count": 3,
   "metadata": {},
   "outputs": [
    {
     "name": "stdout",
     "output_type": "stream",
     "text": [
      "0.401\n",
      "0.341\n"
     ]
    }
   ],
   "source": [
    "# Question 3\n",
    "# Normal Distributoin 1\n",
    "\n",
    "import scipy.stats as st\n",
    "\n",
    "mean, std = 20, 2\n",
    "p1=st.norm.cdf(19.5, mean, std)\n",
    "p2=st.norm.cdf(22,mean, std)-st.norm.cdf(20, mean, std)\n",
    "print('%.3f\\n%.3f' % (p1,p2))"
   ]
  },
  {
   "cell_type": "code",
   "execution_count": 4,
   "metadata": {},
   "outputs": [
    {
     "name": "stdout",
     "output_type": "stream",
     "text": [
      "15.87\n",
      "84.13\n",
      "15.87\n"
     ]
    }
   ],
   "source": [
    "# Question 4\n",
    "# Binomial Distribution 2\n",
    "\n",
    "import math\n",
    "mean, std = 70, 10\n",
    "cdf = lambda x: 0.5 * (1 + math.erf((x - mean) / (std * (2 ** 0.5))))\n",
    "\n",
    "\n",
    "print(round((1-cdf(80))*100,2))\n",
    "print(round((1-cdf(60))*100,2))\n",
    "print(round((cdf(60))*100,2))"
   ]
  },
  {
   "cell_type": "code",
   "execution_count": 5,
   "metadata": {},
   "outputs": [
    {
     "name": "stdout",
     "output_type": "stream",
     "text": [
      "9800\n",
      "49\n",
      "205\n",
      "15\n",
      "0.0098\n"
     ]
    }
   ],
   "source": [
    "# Question 5\n",
    "# Central limit theorem 1\n",
    "\n",
    "x = int(input())\n",
    "n = int(input())\n",
    "mu = int(input())\n",
    "sigma = int(input())\n",
    "\n",
    "mu_sum = n * mu \n",
    "sigma_sum = math.sqrt(n) * sigma\n",
    "\n",
    "def cdf(x, mu, sigma):\n",
    "    Z = (x - mu)/sigma\n",
    "    return 0.5*(1 + math.erf(Z/(math.sqrt(2))))\n",
    "\n",
    "print(round(cdf(x, mu_sum, sigma_sum), 4))"
   ]
  },
  {
   "cell_type": "code",
   "execution_count": 6,
   "metadata": {},
   "outputs": [
    {
     "name": "stdout",
     "output_type": "stream",
     "text": [
      "0.6915\n"
     ]
    }
   ],
   "source": [
    "# Question 6\n",
    "# Central limit theorem 2\n",
    "\n",
    "x = 250\n",
    "n = 100\n",
    "sampling_mean = 2.4\n",
    "sampling_stdev = 2.0\n",
    "stdev = sampling_stdev * math.sqrt(n)\n",
    "\n",
    "cdf = 0.5 * (1 + math.erf((x - sampling_mean * n) / (stdev * math.sqrt(2))))\n",
    "\n",
    "print(round(cdf,4))"
   ]
  },
  {
   "cell_type": "code",
   "execution_count": 7,
   "metadata": {},
   "outputs": [
    {
     "name": "stdout",
     "output_type": "stream",
     "text": [
      "100\n",
      "500\n",
      "80\n",
      ".95\n",
      "1.96\n",
      "484.32\n",
      "515.68\n"
     ]
    }
   ],
   "source": [
    "# Question 7\n",
    "# Central limit theorem 3\n",
    "\n",
    "samples = float(input())\n",
    "mean = float(input())\n",
    "sd = float(input())\n",
    "interval = float(input())\n",
    "z = float (input())\n",
    "\n",
    "sd_sample = sd / (samples**0.5)\n",
    "print(round(mean - sd_sample*z,2))\n",
    "print(round(mean + sd_sample*z,2))"
   ]
  },
  {
   "cell_type": "code",
   "execution_count": 8,
   "metadata": {},
   "outputs": [
    {
     "name": "stdout",
     "output_type": "stream",
     "text": [
      "10\n",
      "10 9.8 8 7.8 7.7 7 6 5 4 2\n",
      "200 44 32 24 22 17 15 12 8 4 \n",
      "0.612\n"
     ]
    }
   ],
   "source": [
    "# Question 8\n",
    "# Pearson Correlation Coefficient\n",
    "\n",
    "N = int(input())\n",
    "X = list(map(float,input().strip().split()))\n",
    "Y = list(map(float,input().strip().split()))\n",
    "\n",
    "mu_x = sum(X) / N\n",
    "mu_y = sum(Y) / N\n",
    "\n",
    "stdv_x = (sum([(i - mu_x)**2 for i in X]) / N)**0.5\n",
    "stdv_y = (sum([(i - mu_y)**2 for i in Y]) / N)**0.5\n",
    "\n",
    "\n",
    "covariance = sum([(X[i] - mu_x) * (Y[i] -mu_y) for i in range(N)])\n",
    "\n",
    "correlation_coefficient = covariance / (N * stdv_x * stdv_y)\n",
    "\n",
    "print(round(correlation_coefficient,3))"
   ]
  },
  {
   "cell_type": "code",
   "execution_count": null,
   "metadata": {},
   "outputs": [],
   "source": [
    "# Question 9\n",
    "# Least Square Linear Regression\n",
    "\n",
    "\n",
    "for j in range(5):\n",
    "    i = input().split()\n",
    "    x.append(int(i[0]))\n",
    "    y.append(int(i[1]))\n",
    "n = len(x)\n",
    "x_sum = sum(x)\n",
    "x_sum_sqr = x_sum**2\n",
    "x_sqr_sum = sum([x_i**2 for x_i in x])\n",
    "y_sum = sum(y)\n",
    "sum_prod_xy = 0\n",
    "for x_i,y_i in zip(x,y):\n",
    "    sum_prod_xy += (x_i*y_i)\n",
    "b = (n*sum_prod_xy - x_sum*y_sum) / (n*x_sqr_sum - x_sum_sqr)\n",
    "y_mean = y_sum/n\n",
    "x_mean = x_sum/n\n",
    "a = y_mean - b*x_mean\n",
    "\n",
    "# to make prediction\n",
    "x_test = 80\n",
    "y_test = a + b * x_test\n",
    "print(\"%.3f\" %y_test) "
   ]
  },
  {
   "cell_type": "code",
   "execution_count": null,
   "metadata": {},
   "outputs": [],
   "source": [
    "# Question 10 \n",
    "# Multiple Linear Regression\n",
    "\n",
    "import numpy as np\n",
    "m,n = [int(i) for i in input().strip().split(' ')]\n",
    "X = []\n",
    "Y = []\n",
    "for i in range(n):\n",
    "    data = input().strip().split(' ')\n",
    "    X.append(data[:m])\n",
    "    Y.append(data[m:])\n",
    "q = int(input().strip())\n",
    "X_new = []\n",
    "for x in range(q):\n",
    "    X_new.append(input().strip().split(' '))\n",
    "X = np.array(X,float)\n",
    "Y = np.array(Y,float)\n",
    "X_new = np.array(X_new,float)\n",
    "\n",
    "\n",
    "X_R = X-np.mean(X,axis=0)\n",
    "Y_R = Y-np.mean(Y)\n",
    "\n",
    "\n",
    "beta = np.dot(np.linalg.inv(np.dot(X_R.T,X_R)),np.dot(X_R.T,Y_R))\n",
    "\n",
    "\n",
    "X_new_R = X_new-np.mean(X,axis=0)\n",
    "Y_new_R = np.dot(X_new_R,beta)\n",
    "Y_new = Y_new_R + np.mean(Y)\n",
    "\n",
    "\n",
    "for i in Y_new:\n",
    "    print(round(float(i),2))"
   ]
  },
  {
   "cell_type": "code",
   "execution_count": null,
   "metadata": {},
   "outputs": [],
   "source": []
  }
 ],
 "metadata": {
  "kernelspec": {
   "display_name": "Python 3",
   "language": "python",
   "name": "python3"
  },
  "language_info": {
   "codemirror_mode": {
    "name": "ipython",
    "version": 3
   },
   "file_extension": ".py",
   "mimetype": "text/x-python",
   "name": "python",
   "nbconvert_exporter": "python",
   "pygments_lexer": "ipython3",
   "version": "3.6.5"
  }
 },
 "nbformat": 4,
 "nbformat_minor": 2
}
