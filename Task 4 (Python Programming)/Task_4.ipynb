{
 "cells": [
  {
   "cell_type": "code",
   "execution_count": 3,
   "metadata": {},
   "outputs": [
    {
     "name": "stdout",
     "output_type": "stream",
     "text": [
      "HeLLo\n",
      "hEllO\n"
     ]
    }
   ],
   "source": [
    "# Question 1\n",
    "# sWAP cASE\n",
    "\n",
    "\n",
    "to_swap = input()\n",
    "swap = to_swap.swapcase()\n",
    "print (swap)"
   ]
  },
  {
   "cell_type": "code",
   "execution_count": 4,
   "metadata": {},
   "outputs": [
    {
     "name": "stdout",
     "output_type": "stream",
     "text": [
      "Innomatics Research Labs\n",
      "Innomatics-Research-Labs\n"
     ]
    }
   ],
   "source": [
    "# Question 2\n",
    "# String Split and Join\n",
    "\n",
    "\n",
    "def split_and_join(line):\n",
    "    x=line.split(\" \") \n",
    "    x='-'.join(x)    \n",
    "    return x\n",
    "if __name__ == '__main__':\n",
    "    line = input()\n",
    "    result = split_and_join(line)\n",
    "    print(result)"
   ]
  },
  {
   "cell_type": "code",
   "execution_count": 5,
   "metadata": {},
   "outputs": [
    {
     "name": "stdout",
     "output_type": "stream",
     "text": [
      "Mohd Talib \n",
      "Akhtar\n",
      "Hello Mohd Talib  Akhtar! You just delved into python.\n"
     ]
    }
   ],
   "source": [
    "# Question 3\n",
    "# What's Your Name\n",
    "\n",
    "\n",
    "def print_full_name(first, last):\n",
    "    print(\"Hello \"+first+\" \"+last+ \"! You just delved into python.\")\n",
    "\n",
    "if __name__ == '__main__':\n",
    "    first_name = input()\n",
    "    last_name = input()\n",
    "    print_full_name(first_name, last_name)"
   ]
  },
  {
   "cell_type": "code",
   "execution_count": 7,
   "metadata": {},
   "outputs": [
    {
     "name": "stdout",
     "output_type": "stream",
     "text": [
      "Innamatics\n",
      "3 o\n",
      "Innomatics\n"
     ]
    }
   ],
   "source": [
    "# Question 4\n",
    "# Mutations\n",
    "\n",
    "\n",
    "def mutate_string(string, position, character):\n",
    "    s = list(string)\n",
    "    s[position] = character\n",
    "    string =''.join(s)\n",
    "    return string\n",
    "    \n",
    "if __name__ == '__main__':\n",
    "    s = input()\n",
    "    i, c = input().split()\n",
    "    s_new = mutate_string(s, int(i), c)\n",
    "    print(s_new)"
   ]
  },
  {
   "cell_type": "code",
   "execution_count": 8,
   "metadata": {},
   "outputs": [
    {
     "name": "stdout",
     "output_type": "stream",
     "text": [
      "qA2\n",
      "True\n",
      "True\n",
      "True\n",
      "True\n",
      "True\n"
     ]
    }
   ],
   "source": [
    "# Question 5\n",
    "# String Validators\n",
    "\n",
    "\n",
    "s = input()\n",
    "print(any(c.isalnum() for c in s))\n",
    "print(any(c.isalpha() for c in s))\n",
    "print(any(c.isdigit() for c in s))\n",
    "print(any(c.islower() for c in s))\n",
    "print(any(c.isupper() for c in s))"
   ]
  },
  {
   "cell_type": "code",
   "execution_count": 10,
   "metadata": {},
   "outputs": [
    {
     "name": "stdout",
     "output_type": "stream",
     "text": [
      "ABABAAACAC\n",
      "3\n",
      "AB\n",
      "BA\n",
      "AC\n",
      "C\n"
     ]
    }
   ],
   "source": [
    "# Question 6\n",
    "# Merge The Tools!\n",
    "\n",
    "\n",
    "def merge_the_tools(string, k):\n",
    "    while string:\n",
    "        s = string[0:k]\n",
    "        seen = ''\n",
    "        for i in s:\n",
    "            if i not in seen:\n",
    "                seen += i\n",
    "        print(seen)\n",
    "        string = string[k:]\n",
    "if __name__ == '__main__':\n",
    "    string, k = input(), int(input())\n",
    "    merge_the_tools(string, k)"
   ]
  },
  {
   "cell_type": "code",
   "execution_count": 14,
   "metadata": {},
   "outputs": [
    {
     "name": "stdout",
     "output_type": "stream",
     "text": [
      "ABCBCADBABCD\n",
      "AB\n",
      "2\n"
     ]
    }
   ],
   "source": [
    "# Question 7\n",
    "# Find a string \n",
    "\n",
    "def count_substring(string, sub_string):\n",
    "    count = 0\n",
    "    for i in range(len(string)):\n",
    "        if string[i:].startswith(sub_string):\n",
    "            count += 1\n",
    "    return count\n",
    "\n",
    "if __name__ == '__main__':\n",
    "    string = input().strip()\n",
    "    sub_string = input().strip()\n",
    "    \n",
    "    count = count_substring(string, sub_string)\n",
    "    print(count)"
   ]
  },
  {
   "cell_type": "code",
   "execution_count": 17,
   "metadata": {},
   "outputs": [
    {
     "name": "stdout",
     "output_type": "stream",
     "text": [
      "7 21\n",
      "---------.|.---------\n",
      "------.|..|..|.------\n",
      "---.|..|..|..|..|.---\n",
      "-------WELCOME-------\n",
      "---.|..|..|..|..|.---\n",
      "------.|..|..|.------\n",
      "---------.|.---------\n"
     ]
    }
   ],
   "source": [
    "# Question 8\n",
    "# Designer Door Mar\n",
    "\n",
    "\n",
    "N, M = map(int, input().split()) \n",
    "for i in range(1,N,2): \n",
    "    print((i*'.|.').center(M,'-'))\n",
    "print('WELCOME'.center(M,'-')) \n",
    "for i in range(N-2,-1,-2): \n",
    "    print((i*'.|.').center(M, '-'))"
   ]
  },
  {
   "cell_type": "code",
   "execution_count": 1,
   "metadata": {},
   "outputs": [
    {
     "name": "stdout",
     "output_type": "stream",
     "text": [
      "ABCDEFGHIJKLMNOPQRSTUVWXYZ\n",
      "3\n",
      "ABC\n",
      "DEF\n",
      "GHI\n",
      "JKL\n",
      "MNO\n",
      "PQR\n",
      "STU\n",
      "VWX\n",
      "YZ\n"
     ]
    }
   ],
   "source": [
    "# Question 9\n",
    "# Text Wrap\n",
    "\n",
    "\n",
    "def wrap(string, max_width):\n",
    "    for i in range(0,len(string)+1,max_width):\n",
    "        result=string[i:i+max_width]\n",
    "        if len(result)==max_width:\n",
    "            print(result)\n",
    "        else:\n",
    "            return(result)\n",
    "        \n",
    "if __name__ == '__main__':\n",
    "    string, max_width = input(), int(input())\n",
    "    result = wrap(string, max_width)\n",
    "    print(result)        "
   ]
  },
  {
   "cell_type": "code",
   "execution_count": 2,
   "metadata": {},
   "outputs": [
    {
     "name": "stdout",
     "output_type": "stream",
     "text": [
      "2\n",
      " 1  1  1  1\n",
      " 2  2  2 10\n"
     ]
    }
   ],
   "source": [
    "# Question 10\n",
    "# String Formatting\n",
    "\n",
    "\n",
    "def print_formatted(number):\n",
    "    for i in range(1,n + 1):\n",
    "        pad = number.bit_length()\n",
    "        print(f'{i:{pad}d} {i:{pad}o} {i:{pad}X} {i:{pad}b}')\n",
    "if __name__ == '__main__':\n",
    "    n = int(input())\n",
    "    print_formatted(n)"
   ]
  },
  {
   "cell_type": "code",
   "execution_count": 2,
   "metadata": {},
   "outputs": [
    {
     "name": "stdout",
     "output_type": "stream",
     "text": [
      "mohd talib\n",
      "Mohd Talib\n"
     ]
    }
   ],
   "source": [
    "# Question 11\n",
    "# Capitalize!\n",
    "\n",
    "s = input()\n",
    "for x in s[:].split():\n",
    "    s = s.replace(x, x.capitalize())\n",
    "print(s)"
   ]
  },
  {
   "cell_type": "code",
   "execution_count": 4,
   "metadata": {},
   "outputs": [
    {
     "name": "stdout",
     "output_type": "stream",
     "text": [
      "5\n",
      "    H    \n",
      "   HHH   \n",
      "  HHHHH  \n",
      " HHHHHHH \n",
      "HHHHHHHHH\n",
      "  HHHHH               HHHHH             \n",
      "  HHHHH               HHHHH             \n",
      "  HHHHH               HHHHH             \n",
      "  HHHHH               HHHHH             \n",
      "  HHHHH               HHHHH             \n",
      "  HHHHH               HHHHH             \n",
      "  HHHHHHHHHHHHHHHHHHHHHHHHH   \n",
      "  HHHHHHHHHHHHHHHHHHHHHHHHH   \n",
      "  HHHHHHHHHHHHHHHHHHHHHHHHH   \n",
      "  HHHHH               HHHHH             \n",
      "  HHHHH               HHHHH             \n",
      "  HHHHH               HHHHH             \n",
      "  HHHHH               HHHHH             \n",
      "  HHHHH               HHHHH             \n",
      "  HHHHH               HHHHH             \n",
      "                    HHHHHHHHH \n",
      "                     HHHHHHH  \n",
      "                      HHHHH   \n",
      "                       HHH    \n",
      "                        H     \n"
     ]
    }
   ],
   "source": [
    "# Question 12\n",
    "# Text Alignment\n",
    "\n",
    "thickness = int(input()) #This must be an odd number\n",
    "c = 'H'\n",
    "\n",
    "#Top Cone\n",
    "for i in range(thickness):\n",
    "    print((c*i).rjust(thickness-1)+c+(c*i).ljust(thickness-1))\n",
    "\n",
    "#Top Pillars\n",
    "for i in range(thickness+1):\n",
    "    print((c*thickness).center(thickness*2)+(c*thickness).center(thickness*6))\n",
    "\n",
    "#Middle Belt\n",
    "for i in range((thickness+1)//2):\n",
    "    print((c*thickness*5).center(thickness*6))    \n",
    "\n",
    "#Bottom Pillars\n",
    "for i in range(thickness+1):\n",
    "    print((c*thickness).center(thickness*2)+(c*thickness).center(thickness*6))    \n",
    "\n",
    "#Bottom Cone\n",
    "for i in range(thickness):\n",
    "    print(((c*(thickness-i-1)).rjust(thickness)+c+(c*(thickness-i-1)).ljust(thickness)).rjust(thickness*6))"
   ]
  },
  {
   "cell_type": "code",
   "execution_count": 1,
   "metadata": {},
   "outputs": [
    {
     "name": "stdout",
     "output_type": "stream",
     "text": [
      "6\n",
      "----------f----------\n",
      "--------f-e-f--------\n",
      "------f-e-d-e-f------\n",
      "----f-e-d-c-d-e-f----\n",
      "--f-e-d-c-b-c-d-e-f--\n",
      "f-e-d-c-b-a-b-c-d-e-f\n",
      "--f-e-d-c-b-c-d-e-f--\n",
      "----f-e-d-c-d-e-f----\n",
      "------f-e-d-e-f------\n",
      "--------f-e-f--------\n",
      "----------f----------\n"
     ]
    }
   ],
   "source": [
    "# Question 13\n",
    "# Alphabet Rangoli\n",
    "\n",
    "def print_rangoli(size):\n",
    "    myStr = 'abcdefghijklmnopqrstuvwxyz'[0:size]\n",
    "    \n",
    "    for i in range(size-1, -size, -1):\n",
    "        x = abs(i)\n",
    "        line = myStr[size:x:-1]+myStr[x:size]\n",
    "        print (\"--\"*x+ '-'.join(line)+\"--\"*x)\n",
    "            \n",
    "if __name__ == '__main__':\n",
    "    n = int(input())\n",
    "    print_rangoli(n)"
   ]
  },
  {
   "cell_type": "code",
   "execution_count": 2,
   "metadata": {},
   "outputs": [
    {
     "name": "stdout",
     "output_type": "stream",
     "text": [
      "BANANA\n",
      "Stuart 12\n"
     ]
    }
   ],
   "source": [
    "# Question 14\n",
    "# The Minion Game\n",
    "\n",
    "def minion_game(string):\n",
    "    S = string.strip()\n",
    "    S_length = len(S)\n",
    "    player1, player2 = 0,0\n",
    "\n",
    "    for i in range(S_length):\n",
    "        if S[i] in \"AEIOU\":\n",
    "            player1 += S_length - i\n",
    "        else:\n",
    "            player2 += S_length - i        \n",
    "            \n",
    "    if player1 > player2:\n",
    "        print (\"Kevin\", player1)\n",
    "    elif player1 < player2:\n",
    "        print (\"Stuart\", player2)\n",
    "    else:\n",
    "        print (\"Draw\")            \n",
    "if __name__ == '__main__':\n",
    "    s = input()\n",
    "    minion_game(s)"
   ]
  },
  {
   "cell_type": "code",
   "execution_count": null,
   "metadata": {},
   "outputs": [],
   "source": []
  }
 ],
 "metadata": {
  "kernelspec": {
   "display_name": "Python 3",
   "language": "python",
   "name": "python3"
  },
  "language_info": {
   "codemirror_mode": {
    "name": "ipython",
    "version": 3
   },
   "file_extension": ".py",
   "mimetype": "text/x-python",
   "name": "python",
   "nbconvert_exporter": "python",
   "pygments_lexer": "ipython3",
   "version": "3.6.5"
  }
 },
 "nbformat": 4,
 "nbformat_minor": 2
}
