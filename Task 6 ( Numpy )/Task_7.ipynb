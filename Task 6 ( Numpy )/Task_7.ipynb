{
 "cells": [
  {
   "cell_type": "code",
   "execution_count": 3,
   "metadata": {},
   "outputs": [
    {
     "name": "stdout",
     "output_type": "stream",
     "text": [
      "-4 2 5 -2\n",
      "[-2.  5.  2. -4.]\n"
     ]
    }
   ],
   "source": [
    "# Question 1\n",
    "# Arrays\n",
    "\n",
    "import numpy\n",
    "\n",
    "def arrays(arr):\n",
    "    return numpy.array(arr[::-1], float)\n",
    "\n",
    "arr = input().strip().split(' ')\n",
    "result = arrays(arr)\n",
    "print(result)"
   ]
  },
  {
   "cell_type": "code",
   "execution_count": 4,
   "metadata": {},
   "outputs": [
    {
     "name": "stdout",
     "output_type": "stream",
     "text": [
      "2 4 6 2 4 6 3 9 45\n",
      "[[ 2  4  6]\n",
      " [ 2  4  6]\n",
      " [ 3  9 45]]\n"
     ]
    }
   ],
   "source": [
    "# Question 2\n",
    "# Shape and Reshape\n",
    "\n",
    "import numpy as np\n",
    "\n",
    "arr=input().strip().split(' ')\n",
    "arr=np.array(arr,int)\n",
    "print(np.reshape(arr,(3,3)))\n"
   ]
  },
  {
   "cell_type": "code",
   "execution_count": 6,
   "metadata": {},
   "outputs": [
    {
     "name": "stdout",
     "output_type": "stream",
     "text": [
      "1 2\n",
      "2 2\n",
      "[[2]\n",
      " [2]]\n",
      "[2 2]\n"
     ]
    }
   ],
   "source": [
    "# Question 3\n",
    "# Transpose and Flatten\n",
    "\n",
    "\n",
    "import numpy as np\n",
    "\n",
    "n,m=input().strip().split(\" \")\n",
    "k=[]\n",
    "for i in range(int(n)):\n",
    "    a=input().strip().split(\" \")\n",
    "    k.append(a)\n",
    "\n",
    "n=np.array(k,int)\n",
    "print(n.transpose())\n",
    "print(n.flatten())"
   ]
  },
  {
   "cell_type": "code",
   "execution_count": 7,
   "metadata": {},
   "outputs": [
    {
     "name": "stdout",
     "output_type": "stream",
     "text": [
      "4 3 2\n",
      "1 2\n",
      "1 2\n",
      "1 2\n",
      "1 2\n",
      "3 4\n",
      "3 4\n",
      "3 4\n",
      "[[1 2]\n",
      " [1 2]\n",
      " [1 2]\n",
      " [1 2]\n",
      " [3 4]\n",
      " [3 4]\n",
      " [3 4]]\n"
     ]
    }
   ],
   "source": [
    "# Question 4\n",
    "# concatenate\n",
    "\n",
    "\n",
    "import numpy as np\n",
    "\n",
    "n, m, p = map(int, input().split())    \n",
    "\n",
    "source = \" \".join(input() for i in range(n))  \n",
    "matrix1 = np.array(source.split(), int)\n",
    "matrix1.shape = (n, p)\n",
    "\n",
    "source = \" \".join(input() for j in range(m)) \n",
    "matrix2 = np.array(source.split(), int)    \n",
    "matrix2.shape = (m, p)\n",
    "\n",
    "print(np.concatenate((matrix1, matrix2), axis=0)) "
   ]
  },
  {
   "cell_type": "code",
   "execution_count": 9,
   "metadata": {},
   "outputs": [
    {
     "name": "stdout",
     "output_type": "stream",
     "text": [
      "2 2\n",
      "1 2\n",
      "3 4\n",
      "24\n"
     ]
    }
   ],
   "source": [
    "# Question 5\n",
    "# Sum and Prod\n",
    "\n",
    "\n",
    "import numpy\n",
    "\n",
    "N,M = input().split()\n",
    "\n",
    "lst = []\n",
    "for i in range(int(N)):\n",
    "    lst.append(input().split())\n",
    "\n",
    "array = numpy.array(lst, int)\n",
    "row_sum = numpy.sum(array, axis = 0)\n",
    "print(numpy.prod(row_sum))"
   ]
  },
  {
   "cell_type": "code",
   "execution_count": 10,
   "metadata": {},
   "outputs": [
    {
     "name": "stdout",
     "output_type": "stream",
     "text": [
      "3 3 3\n",
      "[[[0 0 0]\n",
      "  [0 0 0]\n",
      "  [0 0 0]]\n",
      "\n",
      " [[0 0 0]\n",
      "  [0 0 0]\n",
      "  [0 0 0]]\n",
      "\n",
      " [[0 0 0]\n",
      "  [0 0 0]\n",
      "  [0 0 0]]]\n",
      "[[[1 1 1]\n",
      "  [1 1 1]\n",
      "  [1 1 1]]\n",
      "\n",
      " [[1 1 1]\n",
      "  [1 1 1]\n",
      "  [1 1 1]]\n",
      "\n",
      " [[1 1 1]\n",
      "  [1 1 1]\n",
      "  [1 1 1]]]\n"
     ]
    }
   ],
   "source": [
    "# Question 6\n",
    "# Zeroes and Ones\n",
    "\n",
    "import numpy\n",
    "d = tuple(  map(int,(input().split())     ))\n",
    "\n",
    "arr1 = numpy.zeros((d), dtype = numpy.int)\n",
    "print(arr1)\n",
    "    \n",
    "arr2 = numpy.ones((d), dtype = numpy.int)\n",
    "print(arr2)"
   ]
  },
  {
   "cell_type": "code",
   "execution_count": 11,
   "metadata": {},
   "outputs": [
    {
     "name": "stdout",
     "output_type": "stream",
     "text": [
      "2 2\n",
      "[[ 1.  0.]\n",
      " [ 0.  1.]]\n"
     ]
    }
   ],
   "source": [
    "# Question 7\n",
    "# Eye and Identity\n",
    "\n",
    "\n",
    "import numpy\n",
    "\n",
    "numpy.set_printoptions(sign=' ')\n",
    "print(numpy.eye(*map(int, input().split())))"
   ]
  },
  {
   "cell_type": "code",
   "execution_count": 12,
   "metadata": {},
   "outputs": [
    {
     "name": "stdout",
     "output_type": "stream",
     "text": [
      "1 4\n",
      "1 2 3 4\n",
      "5 6 7 8\n",
      "[[ 6  8 10 12]]\n",
      "[[-4 -4 -4 -4]]\n",
      "[[ 5 12 21 32]]\n",
      "[[0 0 0 0]]\n",
      "[[1 2 3 4]]\n",
      "[[    1    64  2187 65536]]\n"
     ]
    }
   ],
   "source": [
    "# Question 8\n",
    "# Array Mathematics\n",
    "\n",
    "import numpy\n",
    "\n",
    "n,m = map(int,input().split())\n",
    "a = numpy.array([input().split()],int)\n",
    "b = numpy.array([input().split()],int)\n",
    "print (a+b,a-b,a*b,a//b,a%b,a**b,sep='\\n')"
   ]
  },
  {
   "cell_type": "code",
   "execution_count": 14,
   "metadata": {},
   "outputs": [
    {
     "name": "stdout",
     "output_type": "stream",
     "text": [
      "1.1 2.2 7.6 3.5\n",
      "[ 1.  2.  7.  3.]\n",
      "[ 2.  3.  8.  4.]\n",
      "[ 1.  2.  8.  4.]\n"
     ]
    }
   ],
   "source": [
    "# Question 9\n",
    "# Floor, Ceil and Rint\n",
    "\n",
    "import numpy as np\n",
    "np.set_printoptions(legacy = '1.13')\n",
    "ar = np.array(input().strip().split(), float)\n",
    "print(np.floor(ar), np.ceil(ar), np.rint(ar), sep = \"\\n\")"
   ]
  },
  {
   "cell_type": "code",
   "execution_count": 15,
   "metadata": {},
   "outputs": [
    {
     "name": "stdout",
     "output_type": "stream",
     "text": [
      "2 4\n",
      "2 3\n",
      "5 6\n",
      "5\n"
     ]
    }
   ],
   "source": [
    "# Question 10\n",
    "# Min and Max\n",
    "\n",
    "import numpy\n",
    "arr=[]\n",
    "n,m=map(int,input().split())\n",
    "for row in range(n):\n",
    "    my_arr=list(map(int,input().split()))\n",
    "    arr.append(my_arr)\n",
    "my_array=numpy.array(arr)\n",
    "result=numpy.min(my_array, axis = 1)\n",
    "print(max(result))"
   ]
  },
  {
   "cell_type": "code",
   "execution_count": 17,
   "metadata": {},
   "outputs": [
    {
     "name": "stdout",
     "output_type": "stream",
     "text": [
      "2\n",
      "1 2\n",
      "3 4\n",
      "1 2\n",
      "3 4\n",
      "[[ 7 10]\n",
      " [15 22]]\n"
     ]
    }
   ],
   "source": [
    "# Question 11\n",
    "# Dot and Cross\n",
    "\n",
    "import numpy as np\n",
    "\n",
    "n = int(input())\n",
    "a = np.array([input().split() for i in range(n)], int)\n",
    "b = np.array([input().split() for j in range(n)], int)\n",
    "print(np.dot(a, b))"
   ]
  },
  {
   "cell_type": "code",
   "execution_count": 18,
   "metadata": {},
   "outputs": [
    {
     "name": "stdout",
     "output_type": "stream",
     "text": [
      "0 1 \n",
      "2 3\n",
      "3\n",
      "[[0 0]\n",
      " [2 3]]\n"
     ]
    }
   ],
   "source": [
    "# Question 12\n",
    "# Inner and Outer\n",
    "\n",
    "import numpy\n",
    "A=numpy.array(input().split(),int)\n",
    "B=numpy.array(input().split(),int)\n",
    "print(numpy.inner(A,B))\n",
    "print(numpy.outer(A,B))"
   ]
  },
  {
   "cell_type": "code",
   "execution_count": 20,
   "metadata": {},
   "outputs": [
    {
     "name": "stdout",
     "output_type": "stream",
     "text": [
      "1.1 2 3\n",
      "3\n",
      "18.9\n"
     ]
    }
   ],
   "source": [
    "# Question 13\n",
    "# Polynomials\n",
    "\n",
    "n = list(map(float,input().split()));\n",
    "m = input();\n",
    "print(numpy.polyval(n,int(m)));"
   ]
  },
  {
   "cell_type": "code",
   "execution_count": 22,
   "metadata": {},
   "outputs": [
    {
     "name": "stdout",
     "output_type": "stream",
     "text": [
      "2\n",
      "1.1 3.3\n",
      "2.2 4.4\n",
      "-2.42\n"
     ]
    }
   ],
   "source": [
    "# Question 14\n",
    "# Linear Algebra\n",
    "\n",
    "import numpy as np\n",
    "n = int(input())\n",
    "\n",
    "arr = np.array([input().split() for i in range(n)], float)\n",
    "arr_det = np.linalg.det(arr)\n",
    "\n",
    "print(round(arr_det, 2))"
   ]
  },
  {
   "cell_type": "code",
   "execution_count": 23,
   "metadata": {},
   "outputs": [
    {
     "name": "stdout",
     "output_type": "stream",
     "text": [
      "2 2\n",
      "1 2\n",
      "3 4\n",
      "[ 1.5  3.5]\n",
      "[ 1.  1.]\n",
      "1.11803398875\n"
     ]
    }
   ],
   "source": [
    "# Question 15\n",
    "# Mean, Var and Std\n",
    "\n",
    "import numpy as np \n",
    "\n",
    "n,m = map(int, input().split())\n",
    "b = []\n",
    "for i in range(n):\n",
    "    a = list(map(int, input().split()))\n",
    "    b.append(a)\n",
    "\n",
    "b = np.array(b)\n",
    "\n",
    "np.set_printoptions(legacy='1.13')\n",
    "print(np.mean(b, axis = 1))\n",
    "print(np.var(b, axis = 0))\n",
    "print(np.std(b))"
   ]
  },
  {
   "cell_type": "code",
   "execution_count": null,
   "metadata": {},
   "outputs": [],
   "source": []
  }
 ],
 "metadata": {
  "kernelspec": {
   "display_name": "Python 3",
   "language": "python",
   "name": "python3"
  },
  "language_info": {
   "codemirror_mode": {
    "name": "ipython",
    "version": 3
   },
   "file_extension": ".py",
   "mimetype": "text/x-python",
   "name": "python",
   "nbconvert_exporter": "python",
   "pygments_lexer": "ipython3",
   "version": "3.6.5"
  }
 },
 "nbformat": 4,
 "nbformat_minor": 2
}
