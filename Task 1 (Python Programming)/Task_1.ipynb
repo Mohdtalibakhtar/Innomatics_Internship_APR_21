{
 "cells": [
  {
   "cell_type": "code",
   "execution_count": 1,
   "metadata": {},
   "outputs": [
    {
     "name": "stdout",
     "output_type": "stream",
     "text": [
      "Hello, World!\n"
     ]
    }
   ],
   "source": [
    "# Question 1\n",
    "\n",
    "\n",
    "print('Hello, World!')"
   ]
  },
  {
   "cell_type": "code",
   "execution_count": 11,
   "metadata": {},
   "outputs": [
    {
     "name": "stdout",
     "output_type": "stream",
     "text": [
      "20\n",
      "Weird\n"
     ]
    }
   ],
   "source": [
    "# Question 2 \n",
    "#Python If-Else\n",
    "\n",
    "if __name__ == '__main__':\n",
    "    n = int(input())\n",
    "    if n%2 != 0 :\n",
    "        print (\"Weird\")\n",
    "    \n",
    "    elif n>1 and n<5 and n%2 == 0 :\n",
    "        print (\"Not Weird\")\n",
    "    \n",
    "    elif n>5 and n<21 and n%2 == 0 :\n",
    "        print (\"Weird\")\n",
    "        \n",
    "    elif n>21 and n%2 == 0:\n",
    "        print (\"Not Weird\")"
   ]
  },
  {
   "cell_type": "code",
   "execution_count": 10,
   "metadata": {},
   "outputs": [
    {
     "name": "stdout",
     "output_type": "stream",
     "text": [
      "7\n",
      "5\n",
      "Addition is : 12\n",
      "Subtraction is : 2\n",
      "Multiplication is : 35\n"
     ]
    }
   ],
   "source": [
    "# Question 3\n",
    "# Arithmetic Operators\n",
    "\n",
    "\n",
    "a = int(input())\n",
    "b = int(input())\n",
    "print('Addition is :', a+b)\n",
    "print('Subtraction is :', a-b)\n",
    "print('Multiplication is :', a*b)"
   ]
  },
  {
   "cell_type": "code",
   "execution_count": 13,
   "metadata": {},
   "outputs": [
    {
     "name": "stdout",
     "output_type": "stream",
     "text": [
      "4\n",
      "3\n",
      "Integer Division :  1\n",
      "Float Division :  1.3333333333333333\n"
     ]
    }
   ],
   "source": [
    "# Question 4\n",
    "# Python: Division\n",
    "\n",
    "a = int(input())\n",
    "b = int(input())\n",
    "print('Integer Division : ',a//b)\n",
    "print('Float Division : ',a/b)\n"
   ]
  },
  {
   "cell_type": "code",
   "execution_count": 19,
   "metadata": {},
   "outputs": [
    {
     "name": "stdout",
     "output_type": "stream",
     "text": [
      "3\n",
      "0\n",
      "1\n",
      "4\n"
     ]
    }
   ],
   "source": [
    "# Question 5\n",
    "# Loops\n",
    "\n",
    "n = int(input())\n",
    "i=1\n",
    "for i in range(n):\n",
    "    print (i*i)\n",
    "    i+=1 "
   ]
  },
  {
   "cell_type": "code",
   "execution_count": 20,
   "metadata": {},
   "outputs": [
    {
     "name": "stdout",
     "output_type": "stream",
     "text": [
      "3\n",
      "123\n"
     ]
    }
   ],
   "source": [
    "# Question 6\n",
    "# Print Function\n",
    "\n",
    "n = int(input())\n",
    "print(\"\".join([str(i) for i in range(1, n + 1)]))\n"
   ]
  },
  {
   "cell_type": "code",
   "execution_count": null,
   "metadata": {},
   "outputs": [],
   "source": [
    "# Question 7\n",
    "# Write a function\n",
    "\n",
    "def is_leap(year):\n",
    "    leap = False\n",
    "    \n",
    "    if year % 400 == 0:\n",
    "        return True\n",
    "    if year % 100 == 0:\n",
    "        return False\n",
    "    if year % 4 == 0:\n",
    "        return True\n",
    "    \n",
    "    \n",
    "    return leap\n",
    "\n",
    "year = int(input())\n",
    "print (is_leap(year))"
   ]
  },
  {
   "cell_type": "code",
   "execution_count": null,
   "metadata": {},
   "outputs": [],
   "source": []
  }
 ],
 "metadata": {
  "kernelspec": {
   "display_name": "Python 3",
   "language": "python",
   "name": "python3"
  },
  "language_info": {
   "codemirror_mode": {
    "name": "ipython",
    "version": 3
   },
   "file_extension": ".py",
   "mimetype": "text/x-python",
   "name": "python",
   "nbconvert_exporter": "python",
   "pygments_lexer": "ipython3",
   "version": "3.6.5"
  }
 },
 "nbformat": 4,
 "nbformat_minor": 2
}
