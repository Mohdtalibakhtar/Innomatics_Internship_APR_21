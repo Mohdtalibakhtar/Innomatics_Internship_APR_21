{
 "cells": [
  {
   "cell_type": "code",
   "execution_count": 1,
   "metadata": {},
   "outputs": [
    {
     "name": "stdout",
     "output_type": "stream",
     "text": [
      ".84355458486\n",
      "5\n"
     ]
    }
   ],
   "source": [
    "# Question 1\n",
    "# Group(), Groups() & Groupdict()\n",
    "\n",
    "import re\n",
    "reg = re.match(r\".*?([a-zA-Z0-9]+)\\1\", input())\n",
    "if reg:\n",
    "    print(reg.group(1))\n",
    "else:\n",
    "    print(-1)"
   ]
  },
  {
   "cell_type": "code",
   "execution_count": null,
   "metadata": {},
   "outputs": [],
   "source": [
    "# Question 2\n",
    "# Detect Floating Point Number\n",
    "\n",
    "import re\n",
    "\n",
    "for i in range(int(input())):\n",
    "    print(bool(re.match(\"^[\\+-]?\\d*\\.\\d+$\",input())))"
   ]
  },
  {
   "cell_type": "code",
   "execution_count": null,
   "metadata": {},
   "outputs": [],
   "source": [
    "# Question 3\n",
    "# Re.findall() & Re.finditer()\n",
    "\n",
    "\n",
    "import re\n",
    "\n",
    "pattern = r'(?=([^AEIOUaeiou\\+\\- ][AEIOUaeiou]{2,}[^AEIOUaeiou\\+\\- ]))'\n",
    "\n",
    "x = re.findall(pattern , input())\n",
    "\n",
    "\n",
    "for i in x:\n",
    "    print(i[1:-1])\n",
    "\n",
    "if (len(x) == 0):\n",
    "    print(-1)"
   ]
  },
  {
   "cell_type": "code",
   "execution_count": null,
   "metadata": {},
   "outputs": [],
   "source": [
    "# Question 4\n",
    "# Re.start() & Re.end()\n",
    "\n",
    "\n",
    "import re\n",
    "\n",
    "string = input()\n",
    "string_tofind = input()\n",
    "matches = re.finditer(r'(?=(' + string_tofind + '))', string)\n",
    "\n",
    "anymatch = False\n",
    "for i in matches:\n",
    "    anymatch = True\n",
    "    print((i.start(1), i.end(1) - 1))\n",
    "\n",
    "if anymatch == False:\n",
    "    print((-1, -1))"
   ]
  },
  {
   "cell_type": "code",
   "execution_count": null,
   "metadata": {},
   "outputs": [],
   "source": [
    "# Question 5\n",
    "# Validating phone numbers\n",
    "\n",
    "\n",
    "test = int(input())\n",
    "for i in range(test):\n",
    "    string  = input()\n",
    "    if(len(string)==10 and string[0] in ['9', '8', '7'] and string.isnumeric()):\n",
    "        print(\"YES\")\n",
    "    else:\n",
    "        print(\"NO\")"
   ]
  },
  {
   "cell_type": "code",
   "execution_count": null,
   "metadata": {},
   "outputs": [],
   "source": [
    "# Question 6\n",
    "# Validating and Parsing\n",
    "\n",
    "\n",
    "import email.utils\n",
    "import re\n",
    "n = input()\n",
    "for i in range(int(N)):\n",
    "    email_input = email.utils.parseaddr(input())\n",
    "\n",
    "    if bool(re.match('[a-zA-Z](\\w|-|\\.)*@[a-zA-Z]*\\.[a-zA-Z]{0,3}$', email_input[1])):\n",
    "        print(email.utils.formataddr(email_input))"
   ]
  },
  {
   "cell_type": "code",
   "execution_count": null,
   "metadata": {},
   "outputs": [],
   "source": [
    "# Question 7\n",
    "# Hex Color Code\n",
    "\n",
    "\n",
    "import re\n",
    "for i in range(0, int(input())):\n",
    "    matches = re.findall(r\"(#(?:[\\da-f]{3}){1,2})(?!\\w)(?=.*;)\", input(), re.IGNORECASE)\n",
    "    for m in matches:\n",
    "        print(m)"
   ]
  },
  {
   "cell_type": "code",
   "execution_count": 1,
   "metadata": {},
   "outputs": [
    {
     "name": "stdout",
     "output_type": "stream",
     "text": [
      "CDXXI\n",
      "True\n"
     ]
    }
   ],
   "source": [
    "# Question 8\n",
    "# Validating Roman Numerals\n",
    "\n",
    "import re\n",
    "thousand = 'M{0,3}'\n",
    "hundred = '(C[MD]|D?C{0,3})'\n",
    "ten = '(X[CL]|L?X{0,3})'\n",
    "digit = '(I[VX]|V?I{0,3})'\n",
    "print (bool(re.match(thousand + hundred+ten+digit +'$', input())))"
   ]
  },
  {
   "cell_type": "code",
   "execution_count": null,
   "metadata": {},
   "outputs": [],
   "source": [
    "# Question 9\n",
    "# Validating UID\n",
    "\n",
    "import re\n",
    "x = re.compile(r'(?!.*(.).*\\1)(?=.*\\d.*\\d.*\\d)(?=.*[A-Z].*[A-Z])[A-Za-z0-9]{10}')\n",
    "\n",
    "t = int(input())\n",
    "\n",
    "for _ in range(t):\n",
    "    uid = input()\n",
    "    if x.match(uid):\n",
    "        print('Valid')\n",
    "    else:\n",
    "        print('Invalid')"
   ]
  },
  {
   "cell_type": "code",
   "execution_count": 3,
   "metadata": {},
   "outputs": [
    {
     "name": "stdout",
     "output_type": "stream",
     "text": [
      "DXXVIIII\n",
      "False\n"
     ]
    }
   ],
   "source": [
    "# Question 10\n",
    "# Validating Roman Numerals\n",
    "\n",
    "regex_pattern = r'^M{0,3}(CM|CD|D?C{0,3})(XC|XL|L?X{0,3})(IX|IV|V?I{0,3})$.'\n",
    "import re\n",
    "print(str(bool(re.match(regex_pattern, input()))))"
   ]
  },
  {
   "cell_type": "code",
   "execution_count": 2,
   "metadata": {},
   "outputs": [
    {
     "name": "stdout",
     "output_type": "stream",
     "text": [
      "251,210,000.35\n",
      "251\n",
      "210\n",
      "000\n",
      "35\n"
     ]
    }
   ],
   "source": [
    "# Question 11\n",
    "# Re.split()\n",
    "\n",
    "\n",
    "import re\n",
    "regex_pattern = r\"[,.]\"\n",
    "\n",
    "import re\n",
    "print(\"\\n\".join(re.split(regex_pattern, input())))"
   ]
  },
  {
   "cell_type": "code",
   "execution_count": null,
   "metadata": {},
   "outputs": [],
   "source": [
    "# Question 12\n",
    "# HTML Parser - Part 1\n",
    "\n",
    "\n",
    "from html.parser import HTMLParser\n",
    "n = int(input())\n",
    "\n",
    "page = []\n",
    "for line in range(n):\n",
    "  page.append(str(input()))\n",
    "\n",
    "class MyHTMLParser(HTMLParser):\n",
    "    def handle_starttag(self,tag,args):\n",
    "        self.handler(\"Start\",tag,args)\n",
    "    def handle_endtag(self,tag):\n",
    "        self.handler(\"End\",tag)\n",
    "    def handle_startendtag(self,tag,args):\n",
    "        self.handler(\"Empty\",tag,args)\n",
    "    def handler(self,type,tag,args=[]):\n",
    "        print(\"%-6s: %s\" % (type,tag))\n",
    "        if len(args) > 0:\n",
    "            for a in args:\n",
    "                print(\"-> %s > %s\" % (a[0],a[1]))\n",
    "\n",
    "parser=MyHTMLParser()\n",
    "parser.feed(\"\\n\".join(page))"
   ]
  },
  {
   "cell_type": "code",
   "execution_count": null,
   "metadata": {},
   "outputs": [],
   "source": [
    "# Question 13\n",
    "# HTML Parser - Part 2\n",
    "\n",
    "\n",
    "from html.parser import HTMLParser\n",
    "\n",
    "class MyHTMLParser(HTMLParser):\n",
    "  def handle_comment(self, data):\n",
    "    if '\\n' in data:\n",
    "        print('>>> Multi-line Comment')\n",
    "        print(data)\n",
    "    else:\n",
    "        print('>>> Single-line Comment')\n",
    "        print(data)\n",
    "\n",
    "  def handle_data(self, data):\n",
    "    if '\\n' not in data:\n",
    "        print(\">>> Data\")\n",
    "        print(data)\n",
    "  \n",
    "  \n",
    "html = ''       \n",
    "for i in range(int(input())):\n",
    "    html += input().rstrip()\n",
    "    html += '\\n'\n",
    "\n",
    "parser = MyHTMLParser()\n",
    "parser.feed(html)\n",
    "parser.close()"
   ]
  },
  {
   "cell_type": "code",
   "execution_count": null,
   "metadata": {},
   "outputs": [],
   "source": [
    "# Question 14\n",
    "# Detect HTML Tags, Attributes and Attribute Values\n",
    "\n",
    "\n",
    "from html.parser import HTMLParser\n",
    "class MyHTMLParser(HTMLParser):\n",
    "    def handle_starttag(self,tag,attrs):\n",
    "        print(tag)\n",
    "        for ele in attrs:\n",
    "            print('->',ele[0],'>',ele[1])\n",
    "parser=MyHTMLParser()\n",
    "for i in range(int(input())):\n",
    "    parser.feed(input())       "
   ]
  },
  {
   "cell_type": "code",
   "execution_count": null,
   "metadata": {},
   "outputs": [],
   "source": [
    "# Question 15\n",
    "# Regex Substitution\n",
    "\n",
    "\n",
    "for i in range(int(input())):\n",
    "    line = input()\n",
    "    \n",
    "    while ' && ' in line or ' || ' in line:\n",
    "        line = line.replace(\" && \", \" and \").replace(\" || \", \" or \")\n",
    "    \n",
    "    print(line)"
   ]
  },
  {
   "cell_type": "code",
   "execution_count": null,
   "metadata": {},
   "outputs": [],
   "source": [
    "# Question 16\n",
    "# Validating Credit Card Numbers\n",
    "\n",
    "import re\n",
    "test = re.compile(\n",
    "    r\"^\"\n",
    "    r\"(?!.*(\\d)(-?\\1){3})\"\n",
    "    r\"[456]\"\n",
    "    r\"\\d{3}\"\n",
    "    r\"(?:-?\\d{4}){3}\"\n",
    "    r\"$\")\n",
    "for i in range(int(input().strip())):\n",
    "    print(\"Valid\" if test.search(input().strip()) else \"Invalid\")"
   ]
  },
  {
   "cell_type": "code",
   "execution_count": null,
   "metadata": {},
   "outputs": [],
   "source": [
    "# Question 17\n",
    "# Validating Postal Codes\n",
    "\n",
    "regex_integer_in_range = r\"^[1-9][0-9]{5}$\"\n",
    "regex_alternating_repetitive_digit_pair = r\"(\\d)(?=.\\1)\"\n",
    "\n",
    "\n",
    "import re\n",
    "P = input()\n",
    "\n",
    "print (bool(re.match(regex_integer_in_range, P)) \n",
    "and len(re.findall(regex_alternating_repetitive_digit_pair, P)) < 2)"
   ]
  },
  {
   "cell_type": "code",
   "execution_count": null,
   "metadata": {},
   "outputs": [],
   "source": []
  }
 ],
 "metadata": {
  "kernelspec": {
   "display_name": "Python 3",
   "language": "python",
   "name": "python3"
  },
  "language_info": {
   "codemirror_mode": {
    "name": "ipython",
    "version": 3
   },
   "file_extension": ".py",
   "mimetype": "text/x-python",
   "name": "python",
   "nbconvert_exporter": "python",
   "pygments_lexer": "ipython3",
   "version": "3.6.5"
  }
 },
 "nbformat": 4,
 "nbformat_minor": 2
}
