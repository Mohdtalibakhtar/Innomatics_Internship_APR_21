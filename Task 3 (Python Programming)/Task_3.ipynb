{
 "cells": [
  {
   "cell_type": "code",
   "execution_count": 1,
   "metadata": {},
   "outputs": [
    {
     "name": "stdout",
     "output_type": "stream",
     "text": [
      "4\n",
      "5\n",
      "0\n",
      "4\n",
      "(0, 4)\n"
     ]
    }
   ],
   "source": [
    "# Question 1\n",
    "# Mod Divmod\n",
    "\n",
    "x = int(input())\n",
    "y = int(input())\n",
    "\n",
    "print(x//y)\n",
    "print(x%y)\n",
    "print (divmod(x,y))"
   ]
  },
  {
   "cell_type": "code",
   "execution_count": null,
   "metadata": {},
   "outputs": [],
   "source": [
    "# Question 2\n",
    "# Integers come in all sizes\n",
    "\n",
    "a = int(input())\n",
    "b = int(input())\n",
    "c = int(input())\n",
    "d = int(input())\n",
    "\n",
    "x = a**b\n",
    "y = c**d\n",
    "\n",
    "print(x + y)"
   ]
  },
  {
   "cell_type": "code",
   "execution_count": null,
   "metadata": {},
   "outputs": [],
   "source": [
    "# Question 3\n",
    "# Power - Mod Power\n",
    "\n",
    "a = int(input())\n",
    "b = int(input())\n",
    "m = int(input())\n",
    "\n",
    "x = pow(a,b)\n",
    "\n",
    "print (x)\n",
    "\n",
    "print( x % m )"
   ]
  },
  {
   "cell_type": "code",
   "execution_count": null,
   "metadata": {},
   "outputs": [],
   "source": [
    "# Question 4\n",
    "# Triangle Quest 2\n",
    "\n",
    "for i in range(1, int(input())+1):\n",
    "    print((10**i//9)**2)"
   ]
  },
  {
   "cell_type": "code",
   "execution_count": null,
   "metadata": {},
   "outputs": [],
   "source": [
    "# Question 5\n",
    "# Triangle Quest \n",
    "\n",
    "for i in range(1,int(input())): \n",
    "    print((10**(i)//9)*i)\n"
   ]
  },
  {
   "cell_type": "code",
   "execution_count": null,
   "metadata": {},
   "outputs": [],
   "source": [
    "# Question 6\n",
    "# Find Angle MBC\n",
    "\n",
    "import math\n",
    "AB = int(input())\n",
    "BC = int(input())\n",
    "\n",
    "hype=math.hypot(AB,BC)                      \n",
    "\n",
    "res=round(math.degrees(math.acos(BC/hype))) \n",
    "degree=chr(176)                                \n",
    "print(res,degree, sep='')"
   ]
  },
  {
   "cell_type": "code",
   "execution_count": null,
   "metadata": {},
   "outputs": [],
   "source": [
    "# Question 7\n",
    "# Polar Coordinates\n",
    "\n",
    "import cmath\n",
    "\n",
    "r = complex(input().strip())\n",
    "\n",
    "print(cmath.polar(r)[0])xx\n",
    "print(cmath.polar(r)[1])"
   ]
  }
 ],
 "metadata": {
  "kernelspec": {
   "display_name": "Python 3",
   "language": "python",
   "name": "python3"
  },
  "language_info": {
   "codemirror_mode": {
    "name": "ipython",
    "version": 3
   },
   "file_extension": ".py",
   "mimetype": "text/x-python",
   "name": "python",
   "nbconvert_exporter": "python",
   "pygments_lexer": "ipython3",
   "version": "3.6.5"
  }
 },
 "nbformat": 4,
 "nbformat_minor": 2
}
