{
 "cells": [
  {
   "cell_type": "code",
   "execution_count": 7,
   "metadata": {},
   "outputs": [
    {
     "name": "stdout",
     "output_type": "stream",
     "text": [
      "5\n",
      "Enter the number2\n",
      "Enter the number5\n",
      "Enter the number7\n",
      "Enter the number4\n",
      "Enter the number8\n",
      "7\n"
     ]
    }
   ],
   "source": [
    "# Question 1\n",
    "# Find the Runner-Up Score!\n",
    "\n",
    "n = int(input())\n",
    "arr = []\n",
    "for i in range(n):\n",
    "    n = int(input(\"Enter the number\"))\n",
    "    arr.append(n)\n",
    "print (sorted(set(arr))[-2])"
   ]
  },
  {
   "cell_type": "code",
   "execution_count": 9,
   "metadata": {},
   "outputs": [
    {
     "name": "stdout",
     "output_type": "stream",
     "text": [
      "3\n",
      "4\n",
      "5\n",
      "3\n",
      "[[0, 0, 0], [0, 0, 1], [0, 0, 2], [0, 0, 4], [0, 0, 5], [0, 1, 0], [0, 1, 1], [0, 1, 3], [0, 1, 4], [0, 1, 5], [0, 2, 0], [0, 2, 2], [0, 2, 3], [0, 2, 4], [0, 2, 5], [0, 3, 1], [0, 3, 2], [0, 3, 3], [0, 3, 4], [0, 3, 5], [0, 4, 0], [0, 4, 1], [0, 4, 2], [0, 4, 3], [0, 4, 4], [0, 4, 5], [1, 0, 0], [1, 0, 1], [1, 0, 3], [1, 0, 4], [1, 0, 5], [1, 1, 0], [1, 1, 2], [1, 1, 3], [1, 1, 4], [1, 1, 5], [1, 2, 1], [1, 2, 2], [1, 2, 3], [1, 2, 4], [1, 2, 5], [1, 3, 0], [1, 3, 1], [1, 3, 2], [1, 3, 3], [1, 3, 4], [1, 3, 5], [1, 4, 0], [1, 4, 1], [1, 4, 2], [1, 4, 3], [1, 4, 4], [1, 4, 5], [2, 0, 0], [2, 0, 2], [2, 0, 3], [2, 0, 4], [2, 0, 5], [2, 1, 1], [2, 1, 2], [2, 1, 3], [2, 1, 4], [2, 1, 5], [2, 2, 0], [2, 2, 1], [2, 2, 2], [2, 2, 3], [2, 2, 4], [2, 2, 5], [2, 3, 0], [2, 3, 1], [2, 3, 2], [2, 3, 3], [2, 3, 4], [2, 3, 5], [2, 4, 0], [2, 4, 1], [2, 4, 2], [2, 4, 3], [2, 4, 4], [2, 4, 5], [3, 0, 1], [3, 0, 2], [3, 0, 3], [3, 0, 4], [3, 0, 5], [3, 1, 0], [3, 1, 1], [3, 1, 2], [3, 1, 3], [3, 1, 4], [3, 1, 5], [3, 2, 0], [3, 2, 1], [3, 2, 2], [3, 2, 3], [3, 2, 4], [3, 2, 5], [3, 3, 0], [3, 3, 1], [3, 3, 2], [3, 3, 3], [3, 3, 4], [3, 3, 5], [3, 4, 0], [3, 4, 1], [3, 4, 2], [3, 4, 3], [3, 4, 4], [3, 4, 5]]\n"
     ]
    }
   ],
   "source": [
    "# Question 2\n",
    "# List Comprehensions\n",
    "\n",
    "x = int(input())\n",
    "y = int(input())\n",
    "z = int(input())\n",
    "n = int(input())\n",
    "print ([[a,b,c] for a in range(x+1) for b in range(y+1) for c in range(z+1) if a + b            + c != n ])"
   ]
  },
  {
   "cell_type": "code",
   "execution_count": 1,
   "metadata": {},
   "outputs": [
    {
     "name": "stdout",
     "output_type": "stream",
     "text": [
      "4\n",
      "append 1\n",
      "append 3\n",
      "insert3 1\n",
      "print\n",
      "[1, 3]\n"
     ]
    }
   ],
   "source": [
    "## Question 3\n",
    "# Lists\n",
    "\n",
    "arr = []\n",
    "for i in range(int(input())):\n",
    "    s = input().split()\n",
    "    for i in range(1,len(s)):\n",
    "        s[i] = int(s[i])\n",
    "        \n",
    "    if s[0] == \"append\":\n",
    "        arr.append(s[1])\n",
    "    elif s[0] == \"extend\":    \n",
    "        arr.extend(s[1:])\n",
    "    elif s[0] == \"insert\":\n",
    "        arr.insert(s[1],s[2])\n",
    "    elif s[0] == \"remove\":\n",
    "        arr.remove(s[1])\n",
    "    elif s[0] == \"pop\":\n",
    "        arr.pop()\n",
    "    elif s[0] == \"index\":\n",
    "        print (arr.index(s[1]))\n",
    "    elif s[0] == \"count\":\n",
    "        print (arr.count(s[1]))\n",
    "    elif s[0] == \"sort\":\n",
    "        arr.sort()\n",
    "    elif s[0] == \"reverse\":\n",
    "        arr.reverse()\n",
    "    elif s[0] == \"print\":\n",
    "        print (arr)\n"
   ]
  },
  {
   "cell_type": "code",
   "execution_count": null,
   "metadata": {},
   "outputs": [],
   "source": [
    "# Question 4\n",
    "# Set .intersection() Operation\n",
    "\n",
    "\n",
    "eng_student = input()\n",
    "a = set(input().split())\n",
    "french_student  = input()\n",
    "b = set(input().split())\n",
    "print(len(a.intersection(b)))"
   ]
  },
  {
   "cell_type": "code",
   "execution_count": null,
   "metadata": {},
   "outputs": [],
   "source": [
    "# Question 5\n",
    "# Tuples\n",
    "\n",
    "input()\n",
    "print(hash(tuple(int(x) for x in input().split())))"
   ]
  },
  {
   "cell_type": "code",
   "execution_count": null,
   "metadata": {},
   "outputs": [],
   "source": [
    "# Question 6\n",
    "# Introduction to Sets\n",
    "\n",
    "def average(array):\n",
    "    heights = set(array)\n",
    "    averg = sum(heights) / len(heights)\n",
    "    return averg\n",
    "\n",
    "if __name__ == '__main__':\n",
    "    n = int(input())\n",
    "    arr = map(int, int(input()).split())\n",
    "    result = average(arr)\n",
    "    print result"
   ]
  },
  {
   "cell_type": "code",
   "execution_count": null,
   "metadata": {},
   "outputs": [],
   "source": [
    "# Question 7\n",
    "# Set .difference() Operation\n",
    "\n",
    "\n",
    "eng_student = input()\n",
    "a = set(input().split())\n",
    "french_student  = input()\n",
    "b = set(input().split())\n",
    "print(len(a-b))\n"
   ]
  },
  {
   "cell_type": "code",
   "execution_count": null,
   "metadata": {},
   "outputs": [],
   "source": [
    "# Question 8\n",
    "# Check Strict Superset\n",
    "\n",
    "a = set(input().split())\n",
    "print(all(a > set(input().split()) for i in range(int(input()))))"
   ]
  },
  {
   "cell_type": "code",
   "execution_count": null,
   "metadata": {},
   "outputs": [],
   "source": [
    "# Question 9\n",
    "# Set .union() Operation\n",
    "\n",
    "eng_student = input()\n",
    "a = set(input().split())\n",
    "french_student  = input()\n",
    "b = set(input().split())\n",
    "print(len(a.union(b)))"
   ]
  },
  {
   "cell_type": "code",
   "execution_count": null,
   "metadata": {},
   "outputs": [],
   "source": [
    "# Question 10 \n",
    "# Check Subset\n",
    "\n",
    "\n",
    "n = int(input())\n",
    "\n",
    "for i in range(n):\n",
    "    a = int(input())\n",
    "    set_a = set(input().split())\n",
    "    b = int(input())\n",
    "    set_b = set(input().split())\n",
    "    out_set = set_a.difference(set_b)\n",
    "    if len(out_set) == 0:\n",
    "        print(True)\n",
    "    else:\n",
    "        print(False)"
   ]
  },
  {
   "cell_type": "code",
   "execution_count": null,
   "metadata": {},
   "outputs": [],
   "source": [
    "# Question 11\n",
    "# Set.add()\n",
    "\n",
    "n = int(input())\n",
    "s = set()\n",
    "for i in range(n):\n",
    "    s.add(int(input())\n",
    "print len(s)"
   ]
  },
  {
   "cell_type": "code",
   "execution_count": null,
   "metadata": {},
   "outputs": [],
   "source": [
    "# Question 12\n",
    "# Nested Lists\n",
    "\n",
    "a = [[int(input()), float(input())] for i in xrange(int(input()))]\n",
    "s = sorted(set([x[1] for x in a]))\n",
    "for name in sorted(x[0] for x in a if x[1] == s[1]):\n",
    "    print (name)"
   ]
  },
  {
   "cell_type": "code",
   "execution_count": null,
   "metadata": {},
   "outputs": [],
   "source": [
    "# Question 13\n",
    "# Symmetric Difference\n",
    "\n",
    "M = raw_input();m = int(input()).split()\n",
    "N = raw_input();n = int(input()).split()\n",
    "\n",
    "print \"\\n\".join(sorted(list(set(m) ^ set(n)),key=int))"
   ]
  },
  {
   "cell_type": "code",
   "execution_count": null,
   "metadata": {},
   "outputs": [],
   "source": [
    "# Question 14\n",
    "# Set Mutations\n",
    "\n",
    "\n",
    "no_elem = int(input())\n",
    "s1 = set(map(int, input().split()))\n",
    "N = int(input())\n",
    "\n",
    "for i in range(N):\n",
    "    cmd, no_elem = input().split()\n",
    "    s2 = set(map(int, input().split()))\n",
    "    if(cmd == \"intersection_update\"):\n",
    "        s1.intersection_update(s2)\n",
    "    elif(cmd == \"update\"):\n",
    "        s1.update(s2)\n",
    "    elif(cmd == \"symmetric_difference_update\"):\n",
    "        s1.symmetric_difference_update(s2)\n",
    "    elif(cmd == \"difference_update\"):\n",
    "        s1.difference_update(s2)\n",
    "\n",
    "print(sum(s1))\n",
    " "
   ]
  },
  {
   "cell_type": "code",
   "execution_count": null,
   "metadata": {},
   "outputs": [],
   "source": [
    "# Question 15\n",
    "# Set .discard(), .remove() & .pop()\n",
    "\n",
    "n=int(input())\n",
    "s = set(map(int,input().split()))\n",
    "N=int(input())\n",
    "for i in range(N) :\n",
    "    choice=input().split()\n",
    "    if choice[0]==\"pop\" :\n",
    "        s.pop()\n",
    "    elif choice[0]==\"remove\" :\n",
    "        s.remove(int(choice[1]))\n",
    "    elif choice[0]==\"discard\" :\n",
    "        s.discard(int(choice[1]))\n",
    "print (sum(s))"
   ]
  },
  {
   "cell_type": "code",
   "execution_count": null,
   "metadata": {},
   "outputs": [],
   "source": [
    "# Question 16\n",
    "# Set .symmetric_difference() Operation\n",
    "\n",
    "\n",
    "eng_student = input()\n",
    "a = set(input().split())\n",
    "french_student  = input()\n",
    "b = set(input().split())\n",
    "print(len(a.symmetric_difference(b)))"
   ]
  },
  {
   "cell_type": "code",
   "execution_count": null,
   "metadata": {},
   "outputs": [],
   "source": [
    "# Question 17\n",
    "# The Captain's Room\n",
    "\n",
    "\n",
    "if __name__ == \"__main__\":\n",
    "    K = input()\n",
    "    rooms = int(input()).split(' ')\n",
    "    \n",
    "    rooms.sort()\n",
    "    a = set([rooms[i] for i in range(0,len(rooms),2)])\n",
    "    b = set([rooms[i] for i in range(1,len(rooms),2)])\n",
    "    \n",
    "    print list(a.symmetric_difference(b))[0]"
   ]
  },
  {
   "cell_type": "code",
   "execution_count": null,
   "metadata": {},
   "outputs": [],
   "source": [
    "# Question 18\n",
    "# Finding the percentage\n",
    "    \n",
    "n = int(input())\n",
    "student_marks = {}\n",
    "for _ in range(n):\n",
    "    name, *line = input().split()\n",
    "    scores = list(map(float, line))\n",
    "    student_marks[name] = scores\n",
    "query_name = input()\n",
    "print('{0:.2f}'.format(sum(student_marks[query_name])/len(student_marks[query_name])))"
   ]
  },
  {
   "cell_type": "code",
   "execution_count": null,
   "metadata": {},
   "outputs": [],
   "source": [
    "# Question 19\n",
    "# No Idea!\n",
    "\n",
    "a = input().split(' ')\n",
    "l = ([int(i) for i in input().split(' ')])\n",
    "firstset = set([int(i) for i in input().split(' ')])\n",
    "secondset = set([int(i) for i in input().split(' ')])\n",
    "p = 0\n",
    "for i in l:\n",
    "    if i in firstset:\n",
    "        p+=1\n",
    "    if i in secondset:\n",
    "        p-=1\n",
    "print(p)"
   ]
  },
  {
   "cell_type": "code",
   "execution_count": null,
   "metadata": {},
   "outputs": [],
   "source": []
  }
 ],
 "metadata": {
  "kernelspec": {
   "display_name": "Python 3",
   "language": "python",
   "name": "python3"
  },
  "language_info": {
   "codemirror_mode": {
    "name": "ipython",
    "version": 3
   },
   "file_extension": ".py",
   "mimetype": "text/x-python",
   "name": "python",
   "nbconvert_exporter": "python",
   "pygments_lexer": "ipython3",
   "version": "3.6.5"
  }
 },
 "nbformat": 4,
 "nbformat_minor": 2
}
